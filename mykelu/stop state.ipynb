{
 "cells": [
  {
   "cell_type": "markdown",
   "metadata": {},
   "source": [
    "# Disclaimer"
   ]
  },
  {
   "cell_type": "markdown",
   "metadata": {},
   "source": [
    "Much of this notebook was written in a quick-and-dirty ad hoc fashion to produce the plot at the end, since the goal was just data exploration.\n",
    "\n",
    "Future contributors will appreciate it if none of this in its current form makes it into production."
   ]
  },
  {
   "cell_type": "markdown",
   "metadata": {},
   "source": [
    "# Imports"
   ]
  },
  {
   "cell_type": "code",
   "execution_count": 1,
   "metadata": {},
   "outputs": [],
   "source": [
    "import requests\n",
    "\n",
    "from datetime import datetime\n",
    "\n",
    "import pandas as pd\n",
    "import numpy as np\n",
    "from geopy.distance import distance\n",
    "\n",
    "import matplotlib.pyplot as plt\n",
    "from matplotlib.ticker import FuncFormatter"
   ]
  },
  {
   "cell_type": "markdown",
   "metadata": {},
   "source": [
    "# Parameters of Interest"
   ]
  },
  {
   "cell_type": "markdown",
   "metadata": {},
   "source": [
    "Modify these to find the data you're looking for."
   ]
  },
  {
   "cell_type": "code",
   "execution_count": 2,
   "metadata": {},
   "outputs": [],
   "source": [
    "start_time = int(datetime(2018, 10, 18, 15-7, 0, 0).timestamp())*1000\n",
    "end_time   = int(datetime(2018, 10, 18, 16-7, 0, 0).timestamp())*1000\n",
    "\n",
    "routes = [\"14\"]\n",
    "stop_id = \"5536\""
   ]
  },
  {
   "cell_type": "markdown",
   "metadata": {},
   "source": [
    "7 is subtracted from `datetime`'s `hour` parameter to account for PDT's UTC-7 offset.  \n",
    "`datetime.timestamp()` yields seconds, so it's multiplied by 1000 to yield milliseconds."
   ]
  },
  {
   "cell_type": "markdown",
   "metadata": {},
   "source": [
    "# Query GraphQL"
   ]
  },
  {
   "cell_type": "code",
   "execution_count": 3,
   "metadata": {
    "scrolled": false
   },
   "outputs": [],
   "source": [
    "# shamelessly copied from Kevin's notebook\n",
    "\n",
    "list_string = lambda arr: f\"{arr}\".replace(\"'\",'\"')\n",
    "\n",
    "query = f\"\"\"{{\n",
    "  trynState(agency: \"muni\",\n",
    "            startTime: \"{start_time}\",\n",
    "            endTime: \"{end_time}\",\n",
    "            routes: {list_string(routes)}) {{\n",
    "    agency\n",
    "    startTime\n",
    "    routes {{\n",
    "      rid\n",
    "      stops {{\n",
    "        sid\n",
    "        name\n",
    "        lat\n",
    "        lon\n",
    "      }}\n",
    "      routeStates {{\n",
    "        vtime\n",
    "        vehicles {{\n",
    "          vid\n",
    "          lat\n",
    "          lon\n",
    "          heading\n",
    "          did\n",
    "        }}\n",
    "      }}\n",
    "    }}\n",
    "  }}\n",
    "}}\n",
    "\"\"\"\n",
    "query_url = f\"https://06o8rkohub.execute-api.us-west-2.amazonaws.com/dev/graphql?query={query}\"\n",
    "\n",
    "data = requests.get(query_url).json()['data']['trynState']['routes']"
   ]
  },
  {
   "cell_type": "markdown",
   "metadata": {},
   "source": [
    "# Produce Datatables"
   ]
  },
  {
   "cell_type": "markdown",
   "metadata": {},
   "source": [
    "Working with pandas DataTables makes things a bit more readable and organized at the cost of speed, but if performance becomes a priority then things could be changed to use named tuples or NumPy structured arrays instead."
   ]
  },
  {
   "cell_type": "code",
   "execution_count": 4,
   "metadata": {},
   "outputs": [
    {
     "data": {
      "text/html": [
       "<div>\n",
       "<style scoped>\n",
       "    .dataframe tbody tr th:only-of-type {\n",
       "        vertical-align: middle;\n",
       "    }\n",
       "\n",
       "    .dataframe tbody tr th {\n",
       "        vertical-align: top;\n",
       "    }\n",
       "\n",
       "    .dataframe thead th {\n",
       "        text-align: right;\n",
       "    }\n",
       "</style>\n",
       "<table border=\"1\" class=\"dataframe\">\n",
       "  <thead>\n",
       "    <tr style=\"text-align: right;\">\n",
       "      <th></th>\n",
       "      <th>TIME</th>\n",
       "      <th>RID</th>\n",
       "      <th>VID</th>\n",
       "      <th>LAT</th>\n",
       "      <th>LON</th>\n",
       "      <th>DID</th>\n",
       "      <th>HEADING</th>\n",
       "    </tr>\n",
       "  </thead>\n",
       "  <tbody>\n",
       "    <tr>\n",
       "      <th>0</th>\n",
       "      <td>1539874823336</td>\n",
       "      <td>14</td>\n",
       "      <td>7213</td>\n",
       "      <td>37.730263</td>\n",
       "      <td>-122.429688</td>\n",
       "      <td>14___I_F00</td>\n",
       "      <td>30</td>\n",
       "    </tr>\n",
       "    <tr>\n",
       "      <th>1</th>\n",
       "      <td>1539874823336</td>\n",
       "      <td>14</td>\n",
       "      <td>7265</td>\n",
       "      <td>37.706417</td>\n",
       "      <td>-122.459923</td>\n",
       "      <td>14___I_F00</td>\n",
       "      <td>60</td>\n",
       "    </tr>\n",
       "    <tr>\n",
       "      <th>2</th>\n",
       "      <td>1539874823336</td>\n",
       "      <td>14</td>\n",
       "      <td>7215</td>\n",
       "      <td>37.793522</td>\n",
       "      <td>-122.393700</td>\n",
       "      <td>14___O_F00</td>\n",
       "      <td>135</td>\n",
       "    </tr>\n",
       "    <tr>\n",
       "      <th>3</th>\n",
       "      <td>1539874823336</td>\n",
       "      <td>14</td>\n",
       "      <td>7270</td>\n",
       "      <td>37.722889</td>\n",
       "      <td>-122.436325</td>\n",
       "      <td>14___O_S00</td>\n",
       "      <td>211</td>\n",
       "    </tr>\n",
       "    <tr>\n",
       "      <th>4</th>\n",
       "      <td>1539874823336</td>\n",
       "      <td>14</td>\n",
       "      <td>7279</td>\n",
       "      <td>37.749321</td>\n",
       "      <td>-122.418106</td>\n",
       "      <td>14___I_F00</td>\n",
       "      <td>0</td>\n",
       "    </tr>\n",
       "  </tbody>\n",
       "</table>\n",
       "</div>"
      ],
      "text/plain": [
       "            TIME RID   VID        LAT         LON         DID  HEADING\n",
       "0  1539874823336  14  7213  37.730263 -122.429688  14___I_F00       30\n",
       "1  1539874823336  14  7265  37.706417 -122.459923  14___I_F00       60\n",
       "2  1539874823336  14  7215  37.793522 -122.393700  14___O_F00      135\n",
       "3  1539874823336  14  7270  37.722889 -122.436325  14___O_S00      211\n",
       "4  1539874823336  14  7279  37.749321 -122.418106  14___I_F00        0"
      ]
     },
     "execution_count": 4,
     "metadata": {},
     "output_type": "execute_result"
    }
   ],
   "source": [
    "buses = pd.io.json.json_normalize(data,\n",
    "                                  record_path=['routeStates', 'vehicles'],\n",
    "                                  meta=['rid', ['routeStates', 'vtime']]) \\\n",
    "        .rename(columns={'heading': 'HEADING',\n",
    "                         'lat': 'LAT',\n",
    "                         'lon': 'LON',\n",
    "                         'vid': 'VID',\n",
    "                         'rid': 'RID',\n",
    "                         'did': 'DID',\n",
    "                         'routeStates.vtime': 'TIME'}) \\\n",
    "        .reindex(['TIME', 'RID', 'VID', 'LAT', 'LON', 'DID', 'HEADING'], axis='columns')\n",
    "\n",
    "buses.head()"
   ]
  },
  {
   "cell_type": "code",
   "execution_count": 5,
   "metadata": {},
   "outputs": [
    {
     "data": {
      "text/html": [
       "<div>\n",
       "<style scoped>\n",
       "    .dataframe tbody tr th:only-of-type {\n",
       "        vertical-align: middle;\n",
       "    }\n",
       "\n",
       "    .dataframe tbody tr th {\n",
       "        vertical-align: top;\n",
       "    }\n",
       "\n",
       "    .dataframe thead th {\n",
       "        text-align: right;\n",
       "    }\n",
       "</style>\n",
       "<table border=\"1\" class=\"dataframe\">\n",
       "  <thead>\n",
       "    <tr style=\"text-align: right;\">\n",
       "      <th></th>\n",
       "      <th>RID</th>\n",
       "      <th>SID</th>\n",
       "      <th>NAME</th>\n",
       "      <th>LAT</th>\n",
       "      <th>LON</th>\n",
       "      <th>DID</th>\n",
       "    </tr>\n",
       "  </thead>\n",
       "  <tbody>\n",
       "    <tr>\n",
       "      <th>0</th>\n",
       "      <td>14</td>\n",
       "      <td>6498</td>\n",
       "      <td>Steuart &amp; Mission St</td>\n",
       "      <td>37.79325</td>\n",
       "      <td>-122.39328</td>\n",
       "      <td>14___O_F00</td>\n",
       "    </tr>\n",
       "    <tr>\n",
       "      <th>1</th>\n",
       "      <td>14</td>\n",
       "      <td>5623</td>\n",
       "      <td>Mission St &amp; Spear St OB</td>\n",
       "      <td>37.79239</td>\n",
       "      <td>-122.39435</td>\n",
       "      <td>14___O_F00</td>\n",
       "    </tr>\n",
       "    <tr>\n",
       "      <th>2</th>\n",
       "      <td>14</td>\n",
       "      <td>5579</td>\n",
       "      <td>Mission St &amp; Beale St</td>\n",
       "      <td>37.79114</td>\n",
       "      <td>-122.39592</td>\n",
       "      <td>14___O_F00</td>\n",
       "    </tr>\n",
       "    <tr>\n",
       "      <th>3</th>\n",
       "      <td>14</td>\n",
       "      <td>5528</td>\n",
       "      <td>Mission St &amp; 1st St</td>\n",
       "      <td>37.78992</td>\n",
       "      <td>-122.39749</td>\n",
       "      <td>14___O_F00</td>\n",
       "    </tr>\n",
       "    <tr>\n",
       "      <th>4</th>\n",
       "      <td>14</td>\n",
       "      <td>5529</td>\n",
       "      <td>Mission St &amp; 2nd St</td>\n",
       "      <td>37.78775</td>\n",
       "      <td>-122.40024</td>\n",
       "      <td>14___O_F00</td>\n",
       "    </tr>\n",
       "  </tbody>\n",
       "</table>\n",
       "</div>"
      ],
      "text/plain": [
       "  RID   SID                      NAME       LAT        LON         DID\n",
       "0  14  6498      Steuart & Mission St  37.79325 -122.39328  14___O_F00\n",
       "1  14  5623  Mission St & Spear St OB  37.79239 -122.39435  14___O_F00\n",
       "2  14  5579     Mission St & Beale St  37.79114 -122.39592  14___O_F00\n",
       "3  14  5528       Mission St & 1st St  37.78992 -122.39749  14___O_F00\n",
       "4  14  5529       Mission St & 2nd St  37.78775 -122.40024  14___O_F00"
      ]
     },
     "execution_count": 5,
     "metadata": {},
     "output_type": "execute_result"
    }
   ],
   "source": [
    "stops = pd.io.json.json_normalize(data,\n",
    "                                  record_path=['stops'],\n",
    "                                  meta=['rid']) \\\n",
    "        .rename(columns={'name': 'NAME',\n",
    "                         'lat': 'LAT',\n",
    "                         'lon': 'LON',\n",
    "                         'sid': 'SID',\n",
    "                         'rid': 'RID'}) \\\n",
    "        .reindex(['RID', 'SID', 'NAME', 'LAT', 'LON'], axis='columns')\n",
    "# obtain stop directions\n",
    "stops['DID'] = stops['SID'].map({stop: direction['id']\n",
    "                                 for route in [requests\n",
    "                                               .get(\"http://restbus.info/api/agencies/sf-muni/\"\n",
    "                                                    f\"routes/{route_id}\")\n",
    "                                               .json()['directions']\n",
    "                                     for route_id in routes]\n",
    "                                 for direction in route\n",
    "                                 for stop in direction['stops']})\n",
    "# remove stops that don't have an associated direction\n",
    "stops = stops.dropna(axis='index', subset=['DID'])\n",
    "\n",
    "stops.head()"
   ]
  },
  {
   "cell_type": "markdown",
   "metadata": {},
   "source": [
    "For some reason, Morse & Lowell on route 14 is listed under the route's stops, but isn't listed under any of the route's directions. Since the data is outright missing, I'm just removing any such stops for now."
   ]
  },
  {
   "cell_type": "markdown",
   "metadata": {},
   "source": [
    "# Mission & 5th, Outbound"
   ]
  },
  {
   "cell_type": "code",
   "execution_count": 6,
   "metadata": {},
   "outputs": [],
   "source": [
    "# shamelessly inspired by Kevin's notebook\n",
    "\n",
    "def get_closest_bus(stop: pd.Series, buses: pd.DataFrame):\n",
    "    closest_bus = None\n",
    "    closest_dist = None\n",
    "    for _, bus in buses.iterrows():\n",
    "        dist = distance(stop[['LAT', 'LON']],\n",
    "                        bus[['LAT', 'LON']]).meters\n",
    "        if closest_dist is None or closest_dist > dist:\n",
    "            closest_dist = dist\n",
    "            closest_bus = bus['VID']\n",
    "    return closest_bus, closest_dist"
   ]
  },
  {
   "cell_type": "code",
   "execution_count": 7,
   "metadata": {
    "scrolled": false
   },
   "outputs": [],
   "source": [
    "stop = stops[stops['SID'] == stop_id].squeeze()\n",
    "\n",
    "arrivals = pd.DataFrame([[int(time), *get_closest_bus(stop,\n",
    "                                                      buses[(buses['TIME'] == time)\n",
    "                                                            & (buses['DID'] == stop['DID'])])]\n",
    "                         for time in sorted(buses['TIME'].unique())],\n",
    "                        columns=['TIME', 'VID', 'DIST'])"
   ]
  },
  {
   "cell_type": "markdown",
   "metadata": {},
   "source": [
    "The direction ID `DID` is already prepended with the route ID by specification, so there's no need to check for matching `RID` between `stop` and `buses`."
   ]
  },
  {
   "cell_type": "code",
   "execution_count": 8,
   "metadata": {
    "scrolled": false
   },
   "outputs": [
    {
     "data": {
      "image/png": "[encoded data removed]",
      "text/plain": [
       "<Figure size 1296x648 with 1 Axes>"
      ]
     },
     "metadata": {
      "needs_background": "light"
     },
     "output_type": "display_data"
    }
   ],
   "source": [
    "fig = plt.figure(figsize=(18, 9))\n",
    "ax = fig.add_subplot(111)\n",
    "\n",
    "for bus_id in arrivals['VID'].unique():\n",
    "    plt.plot(*arrivals[arrivals['VID'] == bus_id][['TIME', 'DIST']].values.T,\n",
    "             label=f\"bus {bus_id}\")\n",
    "    \n",
    "# format plot\n",
    "ax.get_xaxis().set_major_formatter(  # convert x-axis tick labels to time of day\n",
    "    FuncFormatter(lambda x, p: datetime.utcfromtimestamp(int(x)//1000).strftime('%I:%M%p')))\n",
    "plt.title(f\"Arrivals at Stop {stop_id}\"\n",
    "          f\" from {datetime.utcfromtimestamp(int(start_time)//1000).strftime('%a %I:%M%p')}\"\n",
    "          f\" to {datetime.utcfromtimestamp(int(end_time)//1000).strftime('%a %I:%M%p')}\")\n",
    "plt.xlabel(\"Time\")\n",
    "plt.ylabel(\"Distance from Stop (meters)\")\n",
    "plt.legend(loc='best')\n",
    "          \n",
    "plt.show()"
   ]
  }
 ],
 "metadata": {
  "kernelspec": {
   "display_name": "Python 3",
   "language": "python",
   "name": "python3"
  },
  "language_info": {
   "codemirror_mode": {
    "name": "ipython",
    "version": 3
   },
   "file_extension": ".py",
   "mimetype": "text/x-python",
   "name": "python",
   "nbconvert_exporter": "python",
   "pygments_lexer": "ipython3",
   "version": "3.6.6"
  }
 },
 "nbformat": 4,
 "nbformat_minor": 2
}
